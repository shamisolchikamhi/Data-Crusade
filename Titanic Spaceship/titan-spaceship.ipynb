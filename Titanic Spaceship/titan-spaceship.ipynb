{
 "cells": [
  {
   "cell_type": "code",
   "execution_count": 4,
   "id": "25ebba22",
   "metadata": {
    "papermill": {
     "duration": 0.002801,
     "end_time": "2023-11-15T07:14:46.413152",
     "exception": false,
     "start_time": "2023-11-15T07:14:46.410351",
     "status": "completed"
    },
    "tags": []
   },
   "outputs": [],
   "source": [
    "import pandas as pd"
   ]
  },
  {
   "cell_type": "code",
   "execution_count": 1,
   "id": "2ce5987e",
   "metadata": {
    "_cell_guid": "b1076dfc-b9ad-4769-8c92-a6c4dae69d19",
    "_uuid": "8f2839f25d086af736a60e9eeb907d3b93b6e0e5",
    "execution": {
     "iopub.execute_input": "2023-11-15T07:14:46.419898Z",
     "iopub.status.busy": "2023-11-15T07:14:46.419393Z",
     "iopub.status.idle": "2023-11-15T07:14:46.944806Z",
     "shell.execute_reply": "2023-11-15T07:14:46.942860Z"
    },
    "papermill": {
     "duration": 0.532378,
     "end_time": "2023-11-15T07:14:46.947930",
     "exception": false,
     "start_time": "2023-11-15T07:14:46.415552",
     "status": "completed"
    },
    "tags": []
   },
   "outputs": [
    {
     "name": "stdout",
     "output_type": "stream",
     "text": [
      "/kaggle/input/spaceship-titanic/sample_submission.csv\n",
      "/kaggle/input/spaceship-titanic/train.csv\n",
      "/kaggle/input/spaceship-titanic/test.csv\n"
     ]
    }
   ],
   "source": [
    "# This Python 3 environment comes with many helpful analytics libraries installed\n",
    "# It is defined by the kaggle/python Docker image: https://github.com/kaggle/docker-python\n",
    "# For example, here's several helpful packages to load\n",
    "\n",
    "import numpy as np # linear algebra\n",
    "import pandas as pd # data processing, CSV file I/O (e.g. pd.read_csv)\n",
    "\n",
    "# Input data files are available in the read-only \"../input/\" directory\n",
    "# For example, running this (by clicking run or pressing Shift+Enter) will list all files under the input directory\n",
    "\n",
    "import os\n",
    "for dirname, _, filenames in os.walk('/kaggle/input'):\n",
    "    for filename in filenames:\n",
    "        print(os.path.join(dirname, filename))\n",
    "\n",
    "# You can write up to 20GB to the current directory (/kaggle/working/) that gets preserved as output when you create a version using \"Save & Run All\" \n",
    "# You can also write temporary files to /kaggle/temp/, but they won't be saved outside of the current session"
   ]
  },
  {
   "cell_type": "code",
   "execution_count": 6,
   "outputs": [
    {
     "data": {
      "text/plain": "  PassengerId HomePlanet CryoSleep  Cabin  Destination   Age    VIP  \\\n0     0001_01     Europa     False  B/0/P  TRAPPIST-1e  39.0  False   \n1     0002_01      Earth     False  F/0/S  TRAPPIST-1e  24.0  False   \n2     0003_01     Europa     False  A/0/S  TRAPPIST-1e  58.0   True   \n3     0003_02     Europa     False  A/0/S  TRAPPIST-1e  33.0  False   \n4     0004_01      Earth     False  F/1/S  TRAPPIST-1e  16.0  False   \n\n   RoomService  FoodCourt  ShoppingMall     Spa  VRDeck               Name  \\\n0          0.0        0.0           0.0     0.0     0.0    Maham Ofracculy   \n1        109.0        9.0          25.0   549.0    44.0       Juanna Vines   \n2         43.0     3576.0           0.0  6715.0    49.0      Altark Susent   \n3          0.0     1283.0         371.0  3329.0   193.0       Solam Susent   \n4        303.0       70.0         151.0   565.0     2.0  Willy Santantines   \n\n   Transported  \n0        False  \n1         True  \n2        False  \n3        False  \n4         True  ",
      "text/html": "<div>\n<style scoped>\n    .dataframe tbody tr th:only-of-type {\n        vertical-align: middle;\n    }\n\n    .dataframe tbody tr th {\n        vertical-align: top;\n    }\n\n    .dataframe thead th {\n        text-align: right;\n    }\n</style>\n<table border=\"1\" class=\"dataframe\">\n  <thead>\n    <tr style=\"text-align: right;\">\n      <th></th>\n      <th>PassengerId</th>\n      <th>HomePlanet</th>\n      <th>CryoSleep</th>\n      <th>Cabin</th>\n      <th>Destination</th>\n      <th>Age</th>\n      <th>VIP</th>\n      <th>RoomService</th>\n      <th>FoodCourt</th>\n      <th>ShoppingMall</th>\n      <th>Spa</th>\n      <th>VRDeck</th>\n      <th>Name</th>\n      <th>Transported</th>\n    </tr>\n  </thead>\n  <tbody>\n    <tr>\n      <th>0</th>\n      <td>0001_01</td>\n      <td>Europa</td>\n      <td>False</td>\n      <td>B/0/P</td>\n      <td>TRAPPIST-1e</td>\n      <td>39.0</td>\n      <td>False</td>\n      <td>0.0</td>\n      <td>0.0</td>\n      <td>0.0</td>\n      <td>0.0</td>\n      <td>0.0</td>\n      <td>Maham Ofracculy</td>\n      <td>False</td>\n    </tr>\n    <tr>\n      <th>1</th>\n      <td>0002_01</td>\n      <td>Earth</td>\n      <td>False</td>\n      <td>F/0/S</td>\n      <td>TRAPPIST-1e</td>\n      <td>24.0</td>\n      <td>False</td>\n      <td>109.0</td>\n      <td>9.0</td>\n      <td>25.0</td>\n      <td>549.0</td>\n      <td>44.0</td>\n      <td>Juanna Vines</td>\n      <td>True</td>\n    </tr>\n    <tr>\n      <th>2</th>\n      <td>0003_01</td>\n      <td>Europa</td>\n      <td>False</td>\n      <td>A/0/S</td>\n      <td>TRAPPIST-1e</td>\n      <td>58.0</td>\n      <td>True</td>\n      <td>43.0</td>\n      <td>3576.0</td>\n      <td>0.0</td>\n      <td>6715.0</td>\n      <td>49.0</td>\n      <td>Altark Susent</td>\n      <td>False</td>\n    </tr>\n    <tr>\n      <th>3</th>\n      <td>0003_02</td>\n      <td>Europa</td>\n      <td>False</td>\n      <td>A/0/S</td>\n      <td>TRAPPIST-1e</td>\n      <td>33.0</td>\n      <td>False</td>\n      <td>0.0</td>\n      <td>1283.0</td>\n      <td>371.0</td>\n      <td>3329.0</td>\n      <td>193.0</td>\n      <td>Solam Susent</td>\n      <td>False</td>\n    </tr>\n    <tr>\n      <th>4</th>\n      <td>0004_01</td>\n      <td>Earth</td>\n      <td>False</td>\n      <td>F/1/S</td>\n      <td>TRAPPIST-1e</td>\n      <td>16.0</td>\n      <td>False</td>\n      <td>303.0</td>\n      <td>70.0</td>\n      <td>151.0</td>\n      <td>565.0</td>\n      <td>2.0</td>\n      <td>Willy Santantines</td>\n      <td>True</td>\n    </tr>\n  </tbody>\n</table>\n</div>"
     },
     "execution_count": 6,
     "metadata": {},
     "output_type": "execute_result"
    }
   ],
   "source": [
    "data = pd.read_csv('train.csv')\n",
    "data.head()"
   ],
   "metadata": {
    "collapsed": false
   }
  },
  {
   "cell_type": "code",
   "execution_count": 7,
   "outputs": [
    {
     "data": {
      "text/plain": "(PassengerId      object\n HomePlanet       object\n CryoSleep        object\n Cabin            object\n Destination      object\n Age             float64\n VIP              object\n RoomService     float64\n FoodCourt       float64\n ShoppingMall    float64\n Spa             float64\n VRDeck          float64\n Name             object\n Transported        bool\n dtype: object,\n                Age   RoomService     FoodCourt  ShoppingMall           Spa  \\\n count  8514.000000   8512.000000   8510.000000   8485.000000   8510.000000   \n mean     28.827930    224.687617    458.077203    173.729169    311.138778   \n std      14.489021    666.717663   1611.489240    604.696458   1136.705535   \n min       0.000000      0.000000      0.000000      0.000000      0.000000   \n 25%      19.000000      0.000000      0.000000      0.000000      0.000000   \n 50%      27.000000      0.000000      0.000000      0.000000      0.000000   \n 75%      38.000000     47.000000     76.000000     27.000000     59.000000   \n max      79.000000  14327.000000  29813.000000  23492.000000  22408.000000   \n \n              VRDeck  \n count   8505.000000  \n mean     304.854791  \n std     1145.717189  \n min        0.000000  \n 25%        0.000000  \n 50%        0.000000  \n 75%       46.000000  \n max    24133.000000  ,\n PassengerId    8693\n HomePlanet        3\n CryoSleep         2\n Cabin          6560\n Destination       3\n VIP               2\n Name           8473\n Transported       2\n dtype: int64,\n PassengerId       0\n HomePlanet      201\n CryoSleep       217\n Cabin           199\n Destination     182\n Age             179\n VIP             203\n RoomService     181\n FoodCourt       183\n ShoppingMall    208\n Spa             183\n VRDeck          188\n Name            200\n Transported       0\n dtype: int64)"
     },
     "execution_count": 7,
     "metadata": {},
     "output_type": "execute_result"
    }
   ],
   "source": [
    "# Data types of each column\n",
    "data_types = data.dtypes\n",
    "\n",
    "# Summary statistics for numerical columns\n",
    "numerical_summary = data.describe()\n",
    "\n",
    "# Count of unique values for categorical columns\n",
    "categorical_columns = data.select_dtypes(include=['object', 'bool']).columns\n",
    "unique_counts = data[categorical_columns].nunique()\n",
    "\n",
    "# Checking for missing values\n",
    "missing_values = data.isnull().sum()\n",
    "\n",
    "data_types, numerical_summary, unique_counts, missing_values"
   ],
   "metadata": {
    "collapsed": false
   }
  },
  {
   "cell_type": "code",
   "execution_count": null,
   "outputs": [],
   "source": [],
   "metadata": {
    "collapsed": false
   }
  }
 ],
 "metadata": {
  "kaggle": {
   "accelerator": "none",
   "dataSources": [
    {
     "databundleVersionId": 3220602,
     "sourceId": 34377,
     "sourceType": "competition"
    }
   ],
   "isGpuEnabled": false,
   "isInternetEnabled": true,
   "language": "python",
   "sourceType": "notebook"
  },
  "kernelspec": {
   "display_name": "Python 3",
   "language": "python",
   "name": "python3"
  },
  "language_info": {
   "codemirror_mode": {
    "name": "ipython",
    "version": 3
   },
   "file_extension": ".py",
   "mimetype": "text/x-python",
   "name": "python",
   "nbconvert_exporter": "python",
   "pygments_lexer": "ipython3",
   "version": "3.10.12"
  },
  "papermill": {
   "default_parameters": {},
   "duration": 5.229832,
   "end_time": "2023-11-15T07:14:47.675245",
   "environment_variables": {},
   "exception": null,
   "input_path": "__notebook__.ipynb",
   "output_path": "__notebook__.ipynb",
   "parameters": {},
   "start_time": "2023-11-15T07:14:42.445413",
   "version": "2.4.0"
  }
 },
 "nbformat": 4,
 "nbformat_minor": 5
}
